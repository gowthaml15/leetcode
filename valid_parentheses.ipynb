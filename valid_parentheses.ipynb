{
 "cells": [
  {
   "cell_type": "markdown",
   "metadata": {},
   "source": [
    "Problem: Valid Parentheses\n",
    "\n",
    "Description:\n",
    "Given a string s consisting of just the characters '(', ')', '{', '}', '[', and ']', determine if the input string is valid.\n",
    "\n",
    "An input string is valid if:\n",
    "\n",
    "Open brackets must be closed by the same type of brackets.\n",
    "Open brackets must be closed in the correct order.\n",
    "Function Signature:"
   ]
  },
  {
   "cell_type": "code",
   "execution_count": 26,
   "metadata": {},
   "outputs": [],
   "source": [
    "def is_valid(s: str) -> bool:\n",
    "    print(\"--------\")\n",
    "    t = []\n",
    "    d = {')':'(','}':'{',']':'['}\n",
    "    for i in s:\n",
    "        if i in  ['(','{','[']:\n",
    "            t.append(i)\n",
    "        elif i in [')','}',']'] and t[-1] == d[i]:\n",
    "            print(f'pop element: {t[-1]}')\n",
    "            t = t[:-1]\n",
    "    if len(t) == 0:\n",
    "        return True\n",
    "    else: \n",
    "        return False\n"
   ]
  },
  {
   "cell_type": "code",
   "execution_count": 27,
   "metadata": {},
   "outputs": [
    {
     "name": "stdout",
     "output_type": "stream",
     "text": [
      "--------\n",
      "pop element: (\n"
     ]
    },
    {
     "data": {
      "text/plain": [
       "True"
      ]
     },
     "execution_count": 27,
     "metadata": {},
     "output_type": "execute_result"
    }
   ],
   "source": [
    "s = \"()\"\n",
    "is_valid(s)\n",
    "# Expected Output: True"
   ]
  },
  {
   "cell_type": "code",
   "execution_count": 28,
   "metadata": {},
   "outputs": [
    {
     "name": "stdout",
     "output_type": "stream",
     "text": [
      "--------\n",
      "pop element: (\n",
      "pop element: [\n",
      "pop element: {\n"
     ]
    },
    {
     "data": {
      "text/plain": [
       "True"
      ]
     },
     "execution_count": 28,
     "metadata": {},
     "output_type": "execute_result"
    }
   ],
   "source": [
    "s = \"()[]{}\"\n",
    "is_valid(s)\n",
    "# Expected Output: True"
   ]
  },
  {
   "cell_type": "code",
   "execution_count": 29,
   "metadata": {},
   "outputs": [
    {
     "name": "stdout",
     "output_type": "stream",
     "text": [
      "--------\n"
     ]
    },
    {
     "data": {
      "text/plain": [
       "False"
      ]
     },
     "execution_count": 29,
     "metadata": {},
     "output_type": "execute_result"
    }
   ],
   "source": [
    "s = \"(]\"\n",
    "is_valid(s)\n",
    "# Expected Output: False"
   ]
  },
  {
   "cell_type": "code",
   "execution_count": 32,
   "metadata": {},
   "outputs": [
    {
     "name": "stdout",
     "output_type": "stream",
     "text": [
      "--------\n",
      "pop element: (\n",
      "Test passed for s='()'. Time taken: 0.000000 seconds\n",
      "--------\n",
      "pop element: (\n",
      "pop element: [\n",
      "pop element: {\n",
      "Test passed for s='()[]{}'. Time taken: 0.000000 seconds\n",
      "--------\n",
      "Test passed for s='(]'. Time taken: 0.000000 seconds\n",
      "--------\n",
      "pop element: [\n",
      "Test passed for s='([)]'. Time taken: 0.000000 seconds\n",
      "--------\n",
      "pop element: [\n",
      "pop element: {\n",
      "Test passed for s='{[]}'. Time taken: 0.000000 seconds\n",
      "--------\n",
      "Test passed for s=''. Time taken: 0.000000 seconds\n",
      "--------\n",
      "pop element: (\n",
      "pop element: (\n",
      "pop element: (\n",
      "pop element: (\n",
      "pop element: (\n",
      "pop element: (\n",
      "pop element: (\n",
      "pop element: (\n",
      "pop element: (\n",
      "Test passed for s='((((((((()))))))))'. Time taken: 0.000000 seconds\n",
      "--------\n",
      "Test passed for s='((('. Time taken: 0.000000 seconds\n",
      "--------\n",
      "pop element: [\n",
      "pop element: {\n",
      "pop element: {\n",
      "pop element: (\n",
      "Test passed for s='[]{}({})'. Time taken: 0.000000 seconds\n",
      "--------\n",
      "Test passed for s='(['. Time taken: 0.000000 seconds\n",
      "All test cases passed!\n"
     ]
    }
   ],
   "source": [
    "import time\n",
    "\n",
    "def validate_solution(func):\n",
    "    test_cases = [\n",
    "        (\"()\", True),\n",
    "        (\"()[]{}\", True),\n",
    "        (\"(]\", False),\n",
    "        (\"([)]\", False),\n",
    "        (\"{[]}\", True),\n",
    "        (\"\", True),\n",
    "        (\"((((((((()))))))))\", True),\n",
    "        (\"(((\", False),\n",
    "        (\"[]{}({})\", True),\n",
    "        (\"([\", False)\n",
    "    ]\n",
    "    \n",
    "    for s, expected in test_cases:\n",
    "        start_time = time.time()\n",
    "        result = func(s)\n",
    "        end_time = time.time()\n",
    "        elapsed_time = end_time - start_time\n",
    "        assert result == expected, f\"Test failed for s='{s}'. Expected {expected}, but got {result}\"\n",
    "        print(f\"Test passed for s='{s}'. Time taken: {elapsed_time:.6f} seconds\")\n",
    "\n",
    "    print(\"All test cases passed!\")\n",
    "\n",
    "# To validate your solution\n",
    "validate_solution(is_valid)"
   ]
  },
  {
   "cell_type": "code",
   "execution_count": null,
   "metadata": {},
   "outputs": [],
   "source": []
  }
 ],
 "metadata": {
  "kernelspec": {
   "display_name": "emotion",
   "language": "python",
   "name": "python3"
  },
  "language_info": {
   "codemirror_mode": {
    "name": "ipython",
    "version": 3
   },
   "file_extension": ".py",
   "mimetype": "text/x-python",
   "name": "python",
   "nbconvert_exporter": "python",
   "pygments_lexer": "ipython3",
   "version": "3.10.13"
  }
 },
 "nbformat": 4,
 "nbformat_minor": 2
}
