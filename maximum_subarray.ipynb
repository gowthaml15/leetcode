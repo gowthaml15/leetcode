{
 "cells": [
  {
   "cell_type": "markdown",
   "metadata": {},
   "source": [
    "Problem: Maximum Subarray\n",
    "\n",
    "Description:\n",
    "Given an integer array nums, find the contiguous subarray (containing at least one number) which has the largest sum and return its sum.\n",
    "\n",
    "A subarray is a contiguous part of an array.\n",
    "\n",
    "Function Signature:"
   ]
  },
  {
   "cell_type": "code",
   "execution_count": 44,
   "metadata": {},
   "outputs": [],
   "source": [
    "def max_subarray_sum(nums: list[int]) -> int:\n",
    "    max_sum = float('-inf')\n",
    "    cur_sum = 0\n",
    "    for i in range(len(nums)):\n",
    "        cur_sum += nums[i]\n",
    "        if cur_sum>max_sum:\n",
    "            max_sum = cur_sum\n",
    "        \n",
    "        if cur_sum<0:\n",
    "            cur_sum=0\n",
    "    return max_sum"
   ]
  },
  {
   "cell_type": "code",
   "execution_count": 38,
   "metadata": {},
   "outputs": [
    {
     "data": {
      "text/plain": [
       "9"
      ]
     },
     "execution_count": 38,
     "metadata": {},
     "output_type": "execute_result"
    }
   ],
   "source": [
    "nums = [1, -2, 3, 4, -1, 2, 1, -5, 4]\n",
    "max_subarray_sum(nums)\n",
    "# Expected Output: 9"
   ]
  },
  {
   "cell_type": "code",
   "execution_count": 39,
   "metadata": {},
   "outputs": [
    {
     "data": {
      "text/plain": [
       "-1"
      ]
     },
     "execution_count": 39,
     "metadata": {},
     "output_type": "execute_result"
    }
   ],
   "source": [
    "nums = [-1, -2, -3, -4]\n",
    "max_subarray_sum(nums)\n",
    "# Expected Output: -1"
   ]
  },
  {
   "cell_type": "code",
   "execution_count": 40,
   "metadata": {},
   "outputs": [
    {
     "data": {
      "text/plain": [
       "23"
      ]
     },
     "execution_count": 40,
     "metadata": {},
     "output_type": "execute_result"
    }
   ],
   "source": [
    "nums = [5, 4, -1, 7, 8]\n",
    "max_subarray_sum(nums)\n",
    "# Expected Output: 23\n"
   ]
  },
  {
   "cell_type": "code",
   "execution_count": 43,
   "metadata": {},
   "outputs": [
    {
     "name": "stdout",
     "output_type": "stream",
     "text": [
      "Test passed for nums=[1, -2, 3, 4, -1, 2, 1, -5, 4]. Time taken: 0.000000 seconds\n",
      "Test passed for nums=[-1, -2, -3, -4]. Time taken: 0.000000 seconds\n",
      "Test passed for nums=[5, 4, -1, 7, 8]. Time taken: 0.000000 seconds\n",
      "Test passed for nums=[-2, 1, -3, 4, -1, 2, 1, -5, 4]. Time taken: 0.000000 seconds\n",
      "Test passed for nums=[1]. Time taken: 0.000000 seconds\n",
      "Test passed for nums=[0, -1, -2, 0]. Time taken: 0.000000 seconds\n",
      "Test passed for nums=[3, -2, 5, -1]. Time taken: 0.000000 seconds\n",
      "Test passed for nums=[1, 2, 3, -2, 5]. Time taken: 0.000000 seconds\n",
      "Test passed for nums=[7, -1, -2, 4, -1]. Time taken: 0.000000 seconds\n",
      "Test passed for nums=[-3, -2, -1, -4]. Time taken: 0.000000 seconds\n",
      "All test cases passed!\n"
     ]
    }
   ],
   "source": [
    "import time\n",
    "\n",
    "def validate_solution(func):\n",
    "    test_cases = [\n",
    "        ([1, -2, 3, 4, -1, 2, 1, -5, 4], 9),\n",
    "        ([-1, -2, -3, -4], -1),\n",
    "        ([5, 4, -1, 7, 8], 23),\n",
    "        ([-2, 1, -3, 4, -1, 2, 1, -5, 4], 6),\n",
    "        ([1], 1),\n",
    "        ([0, -1, -2, 0], 0),\n",
    "        ([3, -2, 5, -1], 6),\n",
    "        ([1, 2, 3, -2, 5], 9),\n",
    "        ([7, -1, -2, 4, -1], 8),\n",
    "        ([-3, -2, -1, -4], -1)\n",
    "    ]\n",
    "    \n",
    "    for nums, expected in test_cases:\n",
    "        start_time = time.time()\n",
    "        result = func(nums)\n",
    "        end_time = time.time()\n",
    "        elapsed_time = end_time - start_time\n",
    "        assert result == expected, f\"Test failed for nums={nums}. Expected {expected}, but got {result}\"\n",
    "        print(f\"Test passed for nums={nums}. Time taken: {elapsed_time:.6f} seconds\")\n",
    "\n",
    "    print(\"All test cases passed!\")\n",
    "\n",
    "# To validate your solution\n",
    "validate_solution(max_subarray_sum)"
   ]
  },
  {
   "cell_type": "code",
   "execution_count": null,
   "metadata": {},
   "outputs": [],
   "source": []
  }
 ],
 "metadata": {
  "kernelspec": {
   "display_name": "emotion",
   "language": "python",
   "name": "python3"
  },
  "language_info": {
   "codemirror_mode": {
    "name": "ipython",
    "version": 3
   },
   "file_extension": ".py",
   "mimetype": "text/x-python",
   "name": "python",
   "nbconvert_exporter": "python",
   "pygments_lexer": "ipython3",
   "version": "3.10.13"
  }
 },
 "nbformat": 4,
 "nbformat_minor": 2
}
