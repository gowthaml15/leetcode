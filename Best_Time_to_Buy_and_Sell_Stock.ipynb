{
 "cells": [
  {
   "cell_type": "markdown",
   "metadata": {},
   "source": [
    "Problem: Best Time to Buy and Sell Stock\n",
    "\n",
    "Description:\n",
    "You are given an array prices where prices[i] is the price of a given stock on the i-th day.\n",
    "\n",
    "You want to maximize your profit by choosing a single day to buy and a different day in the future to sell. Return the maximum profit you can achieve from this transaction. If you cannot achieve any profit, return 0."
   ]
  },
  {
   "cell_type": "code",
   "execution_count": 26,
   "metadata": {},
   "outputs": [],
   "source": [
    "def max_profit(prices: list[int]) -> int:\n",
    "    min_price = float('inf')\n",
    "    max_price = 0\n",
    "    price = 0\n",
    "    for i in range(len(prices)):\n",
    "        if min_price>prices[i]:\n",
    "            min_price = prices[i]\n",
    "        profit = prices[i] - min_price\n",
    "        if profit>max_price:\n",
    "            max_price = profit\n",
    "            \n",
    "    return max_price\n",
    "        \n"
   ]
  },
  {
   "cell_type": "code",
   "execution_count": 27,
   "metadata": {},
   "outputs": [
    {
     "data": {
      "text/plain": [
       "5"
      ]
     },
     "execution_count": 27,
     "metadata": {},
     "output_type": "execute_result"
    }
   ],
   "source": [
    "prices = [7, 1, 5, 3, 6, 4]\n",
    "max_profit(prices)\n",
    "# Expected Output: 5\n"
   ]
  },
  {
   "cell_type": "code",
   "execution_count": 29,
   "metadata": {},
   "outputs": [
    {
     "name": "stdout",
     "output_type": "stream",
     "text": [
      "Test passed for prices=[7, 1, 5, 3, 6, 4]. Time taken: 0.000000 seconds\n",
      "Test passed for prices=[7, 6, 4, 3, 1]. Time taken: 0.000000 seconds\n",
      "Test passed for prices=[1, 2]. Time taken: 0.000000 seconds\n",
      "Test passed for prices=[5, 4, 3, 2, 1]. Time taken: 0.000000 seconds\n",
      "Test passed for prices=[1, 4, 6, 7, 3, 2, 5]. Time taken: 0.000000 seconds\n",
      "Test passed for prices=[10, 22, 5, 75, 65, 80]. Time taken: 0.000000 seconds\n",
      "Test passed for prices=[2, 4, 6, 8, 10]. Time taken: 0.000000 seconds\n",
      "Test passed for prices=[2, 1, 4, 3, 6]. Time taken: 0.000000 seconds\n",
      "Test passed for prices=[1, 2, 3, 4, 5, 6]. Time taken: 0.000000 seconds\n",
      "Test passed for prices=[1]. Time taken: 0.000000 seconds\n",
      "All test cases passed!\n"
     ]
    }
   ],
   "source": [
    "import time\n",
    "\n",
    "def validate_solution(func):\n",
    "    test_cases = [\n",
    "        ([7, 1, 5, 3, 6, 4], 5),\n",
    "        ([7, 6, 4, 3, 1], 0),\n",
    "        ([1, 2], 1),\n",
    "        ([5, 4, 3, 2, 1], 0),\n",
    "        ([1, 4, 6, 7, 3, 2, 5], 6), \n",
    "        ([10, 22, 5, 75, 65, 80], 75),\n",
    "        ([2, 4, 6, 8, 10], 8),\n",
    "        ([2, 1, 4, 3, 6], 5),\n",
    "        ([1, 2, 3, 4, 5, 6], 5),\n",
    "        ([1], 0)\n",
    "    ]\n",
    "    \n",
    "    for prices, expected in test_cases:\n",
    "        start_time = time.time()\n",
    "        result = func(prices)\n",
    "        end_time = time.time()\n",
    "        elapsed_time = end_time - start_time\n",
    "        assert result == expected, f\"Test failed for prices={prices}. Expected {expected}, but got {result}\"\n",
    "        print(f\"Test passed for prices={prices}. Time taken: {elapsed_time:.6f} seconds\")\n",
    "\n",
    "    print(\"All test cases passed!\")\n",
    "\n",
    "# To validate your solution\n",
    "validate_solution(max_profit)\n"
   ]
  },
  {
   "cell_type": "code",
   "execution_count": null,
   "metadata": {},
   "outputs": [],
   "source": []
  }
 ],
 "metadata": {
  "kernelspec": {
   "display_name": "emotion",
   "language": "python",
   "name": "python3"
  },
  "language_info": {
   "codemirror_mode": {
    "name": "ipython",
    "version": 3
   },
   "file_extension": ".py",
   "mimetype": "text/x-python",
   "name": "python",
   "nbconvert_exporter": "python",
   "pygments_lexer": "ipython3",
   "version": "3.10.13"
  }
 },
 "nbformat": 4,
 "nbformat_minor": 2
}
