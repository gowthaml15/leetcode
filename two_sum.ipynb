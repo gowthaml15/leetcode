{
 "cells": [
  {
   "cell_type": "markdown",
   "metadata": {},
   "source": [
    "Problem: Two Sum\n",
    "\n",
    "Description:\n",
    "Given an array of integers nums and an integer target, return indices of the two numbers such that they add up to target.\n",
    "\n",
    "You may assume that each input would have exactly one solution, and you may not use the same element twice. You can return the answer in any order.\n",
    "\n",
    "Function Signature:"
   ]
  },
  {
   "cell_type": "code",
   "execution_count": null,
   "metadata": {},
   "outputs": [],
   "source": [
    "from pydantic import List"
   ]
  },
  {
   "cell_type": "code",
   "execution_count": 63,
   "metadata": {},
   "outputs": [],
   "source": [
    "def two_sum(nums:list, target: int) -> list[int]:\n",
    "    num_index = {}\n",
    "    for i,num in enumerate(nums):\n",
    "        a = target - num\n",
    "        if a in num_index:\n",
    "            print('-----')\n",
    "            return [num_index[a],i]\n",
    "        num_index[num] = i\n",
    "        print(num_index)\n",
    "    return []"
   ]
  },
  {
   "cell_type": "code",
   "execution_count": 64,
   "metadata": {},
   "outputs": [
    {
     "name": "stdout",
     "output_type": "stream",
     "text": [
      "{0: 0}\n",
      "-----\n"
     ]
    },
    {
     "data": {
      "text/plain": [
       "[0, 1]"
      ]
     },
     "execution_count": 64,
     "metadata": {},
     "output_type": "execute_result"
    }
   ],
   "source": [
    "nums = [0, 0, 0, 0]\n",
    "target = 0\n",
    "two_sum(nums,target)\n",
    "# Expected Output: [0, 1] or [1, 2] or [2, 3] (any valid pair with sum 0)\n"
   ]
  },
  {
   "cell_type": "code",
   "execution_count": 2,
   "metadata": {},
   "outputs": [
    {
     "ename": "NameError",
     "evalue": "name 'is_valid' is not defined",
     "output_type": "error",
     "traceback": [
      "\u001b[1;31m---------------------------------------------------------------------------\u001b[0m",
      "\u001b[1;31mNameError\u001b[0m                                 Traceback (most recent call last)",
      "Cell \u001b[1;32mIn[2], line 22\u001b[0m\n\u001b[0;32m     19\u001b[0m     \u001b[38;5;28mprint\u001b[39m(\u001b[38;5;124m\"\u001b[39m\u001b[38;5;124mAll test cases passed!\u001b[39m\u001b[38;5;124m\"\u001b[39m)\n\u001b[0;32m     21\u001b[0m \u001b[38;5;66;03m# To validate your solution\u001b[39;00m\n\u001b[1;32m---> 22\u001b[0m validate_solution(\u001b[43mis_valid\u001b[49m)\n",
      "\u001b[1;31mNameError\u001b[0m: name 'is_valid' is not defined"
     ]
    }
   ],
   "source": [
    "def validate_solution(func):\n",
    "    test_cases = [\n",
    "        ([2, 7, 11, 15], 9, [0, 1]),\n",
    "        ([3, 2, 4], 6, [1, 2]),\n",
    "        ([3, 3], 6, [0, 1]),\n",
    "        ([10, 20, 10, 30, 40], 50, [1, 3])\n",
    "    ]\n",
    "    \n",
    "    for nums, target, expected in test_cases:\n",
    "        result = func(nums, target)\n",
    "        assert result == expected, f\"Test failed for nums={nums}, target={target}. Expected {expected}, but got {result}\"\n",
    "\n",
    "    print(\"All test cases passed!\")\n",
    "validate_solution(two_sum)"
   ]
  },
  {
   "cell_type": "code",
   "execution_count": null,
   "metadata": {},
   "outputs": [],
   "source": []
  }
 ],
 "metadata": {
  "kernelspec": {
   "display_name": "emotion",
   "language": "python",
   "name": "python3"
  },
  "language_info": {
   "codemirror_mode": {
    "name": "ipython",
    "version": 3
   },
   "file_extension": ".py",
   "mimetype": "text/x-python",
   "name": "python",
   "nbconvert_exporter": "python",
   "pygments_lexer": "ipython3",
   "version": "3.10.13"
  }
 },
 "nbformat": 4,
 "nbformat_minor": 2
}
