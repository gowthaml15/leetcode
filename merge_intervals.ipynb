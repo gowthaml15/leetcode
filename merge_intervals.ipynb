{
 "cells": [
  {
   "cell_type": "markdown",
   "metadata": {},
   "source": [
    "Poblem: Merge Intervals\n",
    "\n",
    "Description:\n",
    "Given an array of intervals where each interval is represented as a pair of integers [start, end], merge all overlapping intervals and return a list of non-overlapping intervals that cover all the intervals in the input.\n",
    "\n",
    "Function Signature:"
   ]
  },
  {
   "cell_type": "code",
   "execution_count": 73,
   "metadata": {},
   "outputs": [],
   "source": [
    "def merge(intervals: list[list[int]]) -> list[list[int]]:\n",
    "    if not intervals: return [] \n",
    "    l = [intervals[0]]\n",
    "    for i in intervals[1:]:\n",
    "        lm = l[-1]\n",
    "        if lm[1]>=i[0]:\n",
    "            lm[1] = max(i[1],lm[1])\n",
    "            \n",
    "        else:\n",
    "            l.append(i)\n",
    "    return l"
   ]
  },
  {
   "cell_type": "code",
   "execution_count": 35,
   "metadata": {},
   "outputs": [],
   "source": [
    "def merge_intervals(intervals: list[list[int]]) -> list[list[int]]:\n",
    "    intervals.sort(key=lambda x:x[0])\n",
    "    m = [intervals[0]]\n",
    "    for i in intervals[1:]:\n",
    "        l = m[-1]\n",
    "        if l[-1]>=i[0]:\n",
    "            m[-1][-1] = max(l[-1],i[1])\n",
    "        else:\n",
    "            m.append(i)\n",
    "    return m\n",
    "    \n",
    "    pass\n"
   ]
  },
  {
   "cell_type": "code",
   "execution_count": 29,
   "metadata": {},
   "outputs": [
    {
     "name": "stdout",
     "output_type": "stream",
     "text": [
      "[[1, 6]]\n",
      "[[1, 6], [8, 10]]\n",
      "[[1, 6], [8, 10], [15, 18]]\n"
     ]
    },
    {
     "data": {
      "text/plain": [
       "[[1, 6], [8, 10], [15, 18]]"
      ]
     },
     "execution_count": 29,
     "metadata": {},
     "output_type": "execute_result"
    }
   ],
   "source": [
    "intervals = [[1, 3], [2, 6], [8, 10], [15, 18]]\n",
    "merge_intervals(intervals)\n",
    "# Expected Output: [[1, 6], [8, 10], [15, 18]]\n"
   ]
  },
  {
   "cell_type": "code",
   "execution_count": 30,
   "metadata": {},
   "outputs": [
    {
     "ename": "NameError",
     "evalue": "name 'merge' is not defined",
     "output_type": "error",
     "traceback": [
      "\u001b[1;31m---------------------------------------------------------------------------\u001b[0m",
      "\u001b[1;31mNameError\u001b[0m                                 Traceback (most recent call last)",
      "Cell \u001b[1;32mIn[30], line 2\u001b[0m\n\u001b[0;32m      1\u001b[0m intervals \u001b[38;5;241m=\u001b[39m [[\u001b[38;5;241m1\u001b[39m, \u001b[38;5;241m4\u001b[39m], [\u001b[38;5;241m4\u001b[39m, \u001b[38;5;241m5\u001b[39m]]\n\u001b[1;32m----> 2\u001b[0m \u001b[43mmerge\u001b[49m(intervals)\n\u001b[0;32m      3\u001b[0m \u001b[38;5;66;03m# Expected Output: [[1, 5]]\u001b[39;00m\n",
      "\u001b[1;31mNameError\u001b[0m: name 'merge' is not defined"
     ]
    }
   ],
   "source": [
    "intervals = [[1, 4], [4, 5]]\n",
    "merge(intervals)\n",
    "# Expected Output: [[1, 5]]\n"
   ]
  },
  {
   "cell_type": "code",
   "execution_count": 76,
   "metadata": {},
   "outputs": [
    {
     "data": {
      "text/plain": [
       "[[1, 10], [15, 18]]"
      ]
     },
     "execution_count": 76,
     "metadata": {},
     "output_type": "execute_result"
    }
   ],
   "source": [
    "intervals = [[1, 10], [2, 6], [8, 10], [15, 18]]\n",
    "merge(intervals)\n",
    "# Expected Output: [[1, 10], [15, 18]]\n"
   ]
  },
  {
   "cell_type": "code",
   "execution_count": 36,
   "metadata": {},
   "outputs": [
    {
     "name": "stdout",
     "output_type": "stream",
     "text": [
      "Test passed for intervals=[[1, 6], [2, 6], [8, 10], [15, 18]]. Time taken: 0.000000 seconds\n",
      "Test passed for intervals=[[1, 5], [4, 5]]. Time taken: 0.000000 seconds\n",
      "Test passed for intervals=[[1, 2], [3, 4], [5, 6]]. Time taken: 0.000000 seconds\n",
      "Test passed for intervals=[[1, 7], [2, 6], [2, 4], [5, 7]]. Time taken: 0.000000 seconds\n",
      "Test passed for intervals=[[1, 5], [2, 3], [6, 9], [7, 9]]. Time taken: 0.000000 seconds\n",
      "Test passed for intervals=[[1, 1], [2, 2], [3, 3]]. Time taken: 0.000000 seconds\n",
      "Test passed for intervals=[[1, 10], [2, 6], [8, 10], [15, 18]]. Time taken: 0.000000 seconds\n",
      "Test passed for intervals=[[1, 3], [2, 3], [4, 5], [6, 7]]. Time taken: 0.000000 seconds\n",
      "Test passed for intervals=[[2, 5], [2, 4], [4, 5], [6, 7]]. Time taken: 0.000000 seconds\n",
      "Test passed for intervals=[[1, 10], [3, 8], [6, 10], [15, 18]]. Time taken: 0.001025 seconds\n",
      "All test cases passed!\n"
     ]
    }
   ],
   "source": [
    "import time\n",
    "\n",
    "def validate_solution(func):\n",
    "    test_cases = [\n",
    "        ([[1, 3], [2, 6], [8, 10], [15, 18]], [[1, 6], [8, 10], [15, 18]]),\n",
    "        ([[1, 4], [4, 5]], [[1, 5]]),\n",
    "        ([[1, 2], [3, 4], [5, 6]], [[1, 2], [3, 4], [5, 6]]),\n",
    "        ([[1, 3], [2, 6], [2, 4], [5, 7]], [[1, 7]]),\n",
    "        ([[1, 5], [2, 3], [6, 8], [7, 9]], [[1, 5], [6, 9]]),\n",
    "        ([[1, 1], [2, 2], [3, 3]], [[1, 1], [2, 2], [3, 3]]),\n",
    "        ([[1, 10], [2, 6], [8, 10], [15, 18]], [[1, 10], [15, 18]]),\n",
    "        ([[1, 2], [2, 3], [4, 5], [6, 7]], [[1, 3], [4, 5], [6, 7]]),\n",
    "        ([[2, 3], [2, 4], [4, 5], [6, 7]], [[2, 5], [6, 7]]),\n",
    "        ([[1, 5], [3, 8], [6, 10], [15, 18]], [[1, 10], [15, 18]])\n",
    "    ]\n",
    "    \n",
    "    for intervals, expected in test_cases:\n",
    "        start_time = time.time()\n",
    "        result = func(intervals)\n",
    "        end_time = time.time()\n",
    "        elapsed_time = end_time - start_time\n",
    "        assert result == expected, f\"Test failed for intervals={intervals}. Expected {expected}, but got {result}\"\n",
    "        print(f\"Test passed for intervals={intervals}. Time taken: {elapsed_time:.6f} seconds\")\n",
    "\n",
    "    print(\"All test cases passed!\")\n",
    "\n",
    "# To validate your solution\n",
    "validate_solution(merge_intervals)\n"
   ]
  },
  {
   "cell_type": "code",
   "execution_count": null,
   "metadata": {},
   "outputs": [],
   "source": []
  }
 ],
 "metadata": {
  "kernelspec": {
   "display_name": "emotion",
   "language": "python",
   "name": "python3"
  },
  "language_info": {
   "codemirror_mode": {
    "name": "ipython",
    "version": 3
   },
   "file_extension": ".py",
   "mimetype": "text/x-python",
   "name": "python",
   "nbconvert_exporter": "python",
   "pygments_lexer": "ipython3",
   "version": "3.10.13"
  }
 },
 "nbformat": 4,
 "nbformat_minor": 2
}
