{
 "cells": [
  {
   "cell_type": "markdown",
   "metadata": {},
   "source": [
    "Problem: Longest Increasing Subsequence\n",
    "\n",
    "Description:\n",
    "Given an integer array nums, return the length of the longest strictly increasing subsequence.\n",
    "\n",
    "Definition:\n",
    "\n",
    "A subsequence is derived by deleting some or no elements of the array without changing the order of the remaining elements.\n",
    "Function Signature:"
   ]
  },
  {
   "cell_type": "code",
   "execution_count": 46,
   "metadata": {},
   "outputs": [],
   "source": [
    "def length_of_lis(nums: list[int]) -> int:\n",
    "    dic = {i:[] for i in nums}\n",
    "    for i in range(len(nums)-1):\n",
    "        for j in range(i+1,len(nums)):\n",
    "            if nums[j]> nums[i]:\n",
    "                if len(dic[nums[i]])!=0:\n",
    "                    dic[nums[i]].append(nums[j])\n",
    "                else:\n",
    "                    dic[nums[i]].append(nums[i])\n",
    "                    \n",
    "                    \n",
    "    return dic\n",
    "#-----failer"
   ]
  },
  {
   "cell_type": "code",
   "execution_count": 59,
   "metadata": {},
   "outputs": [],
   "source": [
    "def length_of_lis(nums: list[int]) -> int:\n",
    "    dp = [1 for i in nums]\n",
    "    for i in range(len(nums)):\n",
    "        for j in range(i):\n",
    "            if nums[i]>nums[j]:\n",
    "                # print(f'{nums[i]} ---- {dp[i]} - {dp[j]+1}')\n",
    "                dp[i] = max(dp[i],dp[j]+1)\n",
    "    return max(dp)\n"
   ]
  },
  {
   "cell_type": "code",
   "execution_count": 60,
   "metadata": {},
   "outputs": [
    {
     "data": {
      "text/plain": [
       "4"
      ]
     },
     "execution_count": 60,
     "metadata": {},
     "output_type": "execute_result"
    }
   ],
   "source": [
    "nums = [10, 9, 2, 5, 3, 7, 101, 18]\n",
    "length_of_lis(nums)\n",
    "# Expected Output: 4"
   ]
  },
  {
   "cell_type": "code",
   "execution_count": 54,
   "metadata": {},
   "outputs": [
    {
     "data": {
      "text/plain": [
       "4"
      ]
     },
     "execution_count": 54,
     "metadata": {},
     "output_type": "execute_result"
    }
   ],
   "source": [
    "nums = [0, 1, 0, 3, 2, 3]\n",
    "length_of_lis(nums)\n",
    "# Expected Output: 4\n"
   ]
  },
  {
   "cell_type": "code",
   "execution_count": 55,
   "metadata": {},
   "outputs": [
    {
     "data": {
      "text/plain": [
       "1"
      ]
     },
     "execution_count": 55,
     "metadata": {},
     "output_type": "execute_result"
    }
   ],
   "source": [
    "nums = [7, 7, 7, 7, 7, 7, 7]\n",
    "length_of_lis(nums)\n",
    "# Expected Output: 1\n"
   ]
  },
  {
   "cell_type": "code",
   "execution_count": 56,
   "metadata": {},
   "outputs": [
    {
     "name": "stdout",
     "output_type": "stream",
     "text": [
      "Test passed for nums=[10, 9, 2, 5, 3, 7, 101, 18]. Time taken: 0.000000 seconds\n",
      "Test passed for nums=[0, 1, 0, 3, 2, 3]. Time taken: 0.000000 seconds\n",
      "Test passed for nums=[7, 7, 7, 7, 7, 7, 7]. Time taken: 0.000000 seconds\n",
      "Test passed for nums=[1, 3, 6, 7, 9, 4, 10, 5, 6]. Time taken: 0.000000 seconds\n",
      "Test passed for nums=[3, 2]. Time taken: 0.000000 seconds\n",
      "Test passed for nums=[10, 22, 9, 33, 21, 50, 41, 60, 80]. Time taken: 0.000000 seconds\n",
      "Test passed for nums=[1, 2, 4, 3, 5]. Time taken: 0.000000 seconds\n",
      "Test passed for nums=[0, 1, 0, 3, 2, 3]. Time taken: 0.000000 seconds\n",
      "Test passed for nums=[5, 6, 7, 8, 9]. Time taken: 0.000000 seconds\n",
      "Test passed for nums=[1, 2, 3, 4, 5, 6]. Time taken: 0.000000 seconds\n",
      "All test cases passed!\n"
     ]
    }
   ],
   "source": [
    "import time\n",
    "\n",
    "def validate_solution(func):\n",
    "    test_cases = [\n",
    "        ([10, 9, 2, 5, 3, 7, 101, 18], 4),\n",
    "        ([0, 1, 0, 3, 2, 3], 4),\n",
    "        ([7, 7, 7, 7, 7, 7, 7], 1),\n",
    "        ([1, 3, 6, 7, 9, 4, 10, 5, 6], 6),\n",
    "        ([3, 2], 1),\n",
    "        ([10, 22, 9, 33, 21, 50, 41, 60, 80], 6),\n",
    "        ([1, 2, 4, 3, 5], 4),\n",
    "        ([0, 1, 0, 3, 2, 3], 4),\n",
    "        ([5, 6, 7, 8, 9], 5),\n",
    "        ([1, 2, 3, 4, 5, 6], 6)\n",
    "    ]\n",
    "    \n",
    "    for nums, expected in test_cases:\n",
    "        start_time = time.time()\n",
    "        result = func(nums)\n",
    "        end_time = time.time()\n",
    "        elapsed_time = end_time - start_time\n",
    "        assert result == expected, f\"Test failed for nums={nums}. Expected {expected}, but got {result}\"\n",
    "        print(f\"Test passed for nums={nums}. Time taken: {elapsed_time:.6f} seconds\")\n",
    "\n",
    "    print(\"All test cases passed!\")\n",
    "\n",
    "# To validate your solution\n",
    "validate_solution(length_of_lis)\n"
   ]
  },
  {
   "cell_type": "code",
   "execution_count": null,
   "metadata": {},
   "outputs": [],
   "source": []
  }
 ],
 "metadata": {
  "kernelspec": {
   "display_name": "emotion",
   "language": "python",
   "name": "python3"
  },
  "language_info": {
   "codemirror_mode": {
    "name": "ipython",
    "version": 3
   },
   "file_extension": ".py",
   "mimetype": "text/x-python",
   "name": "python",
   "nbconvert_exporter": "python",
   "pygments_lexer": "ipython3",
   "version": "3.10.13"
  }
 },
 "nbformat": 4,
 "nbformat_minor": 2
}
