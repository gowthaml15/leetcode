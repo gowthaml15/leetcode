{
 "cells": [
  {
   "cell_type": "markdown",
   "metadata": {},
   "source": [
    "Problem: Find the Missing Number\n",
    "\n",
    "Description:\n",
    "Given an array nums containing n distinct numbers in the range [0, n], find the one number that is missing from the array.\n",
    "\n",
    "Function Signature:"
   ]
  },
  {
   "cell_type": "code",
   "execution_count": 22,
   "metadata": {},
   "outputs": [],
   "source": [
    "def find_missing_number(nums: list[int]) -> int:\n",
    "    n = len(nums)\n",
    "    nums = sorted(nums)\n",
    "    if len(nums) == 1:\n",
    "        return 1\n",
    "    for i in range(n-1):\n",
    "        k = nums[i+1] - nums[i] \n",
    "        if k>=2:\n",
    "            return nums[i+1]-1\n",
    "    return n   \n",
    "    "
   ]
  },
  {
   "cell_type": "code",
   "execution_count": 60,
   "metadata": {},
   "outputs": [],
   "source": [
    "#optimal solution - n(n+1)/2\n",
    "def find_missing_number(nums: list[int]) -> int:\n",
    "    print(10*'-')\n",
    "    actual_sum = sum(nums)\n",
    "    l = len(nums)\n",
    "    total_sum = l*(l+1)//2\n",
    "    print(f'{total_sum}-{actual_sum} - {nums}')\n",
    "    return total_sum - actual_sum\n"
   ]
  },
  {
   "cell_type": "code",
   "execution_count": 61,
   "metadata": {},
   "outputs": [
    {
     "name": "stdout",
     "output_type": "stream",
     "text": [
      "----------\n",
      "6-4 - [3, 0, 1]\n"
     ]
    },
    {
     "data": {
      "text/plain": [
       "2"
      ]
     },
     "execution_count": 61,
     "metadata": {},
     "output_type": "execute_result"
    }
   ],
   "source": [
    "nums = [3, 0, 1]\n",
    "find_missing_number(nums)\n",
    "# Expected Output: 2\n",
    "\n"
   ]
  },
  {
   "cell_type": "code",
   "execution_count": 65,
   "metadata": {},
   "outputs": [
    {
     "name": "stdout",
     "output_type": "stream",
     "text": [
      "----------\n",
      "6-4 - [3, 0, 1]\n",
      "Test passed for nums=[3, 0, 1]. Time taken: 0.000000 seconds\n",
      "----------\n",
      "3-1 - [0, 1]\n",
      "Test passed for nums=[0, 1]. Time taken: 0.000000 seconds\n",
      "----------\n",
      "55-45 - [9, 7, 6, 8, 4, 2, 1, 0, 3, 5]\n",
      "Test passed for nums=[9, 7, 6, 8, 4, 2, 1, 0, 3, 5]. Time taken: 0.000000 seconds\n",
      "----------\n",
      "1-0 - [0]\n",
      "Test passed for nums=[0]. Time taken: 0.000995 seconds\n",
      "----------\n",
      "3-2 - [0, 2]\n",
      "Test passed for nums=[0, 2]. Time taken: 0.000000 seconds\n",
      "----------\n",
      "6-4 - [1, 0, 3]\n",
      "Test passed for nums=[1, 0, 3]. Time taken: 0.000000 seconds\n",
      "----------\n",
      "6-4 - [0, 1, 3]\n",
      "Test passed for nums=[0, 1, 3]. Time taken: 0.000000 seconds\n",
      "----------\n",
      "10-6 - [1, 2, 0, 3]\n",
      "Test passed for nums=[1, 2, 0, 3]. Time taken: 0.000000 seconds\n",
      "All test cases passed!\n"
     ]
    }
   ],
   "source": [
    "import time\n",
    "\n",
    "def validate_solution(func):\n",
    "    test_cases = [\n",
    "        ([3, 0, 1], 2),\n",
    "        ([0, 1], 2),\n",
    "        ([9, 7, 6, 8, 4, 2, 1, 0, 3, 5], 10),\n",
    "        ([0], 1),\n",
    "        # ([1, 2, 3, 5], 4),\n",
    "        ([0, 2], 1),\n",
    "        ([1, 0, 3], 2),\n",
    "        # ([1, 2, 3, 4, 5, 7], 6),\n",
    "        ([0, 1, 3], 2),\n",
    "        ([1, 2, 0, 3], 4)\n",
    "    ]\n",
    "    \n",
    "    for nums, expected in test_cases:\n",
    "        start_time = time.time()\n",
    "        result = func(nums)\n",
    "        end_time = time.time()\n",
    "        elapsed_time = end_time - start_time\n",
    "        assert result == expected, f\"Test failed for nums={nums}. Expected {expected}, but got {result}\"\n",
    "        print(f\"Test passed for nums={nums}. Time taken: {elapsed_time:.6f} seconds\")\n",
    "\n",
    "    print(\"All test cases passed!\")\n",
    "\n",
    "# To validate your solution\n",
    "validate_solution(find_missing_number)\n"
   ]
  },
  {
   "cell_type": "code",
   "execution_count": 46,
   "metadata": {},
   "outputs": [
    {
     "data": {
      "text/plain": [
       "11"
      ]
     },
     "execution_count": 46,
     "metadata": {},
     "output_type": "execute_result"
    }
   ],
   "source": [
    "sum([1, 2, 3, 5])"
   ]
  },
  {
   "cell_type": "code",
   "execution_count": 58,
   "metadata": {},
   "outputs": [
    {
     "name": "stdout",
     "output_type": "stream",
     "text": [
      "6\n"
     ]
    }
   ],
   "source": [
    "def find_missing_number(nums: list[int]) -> int:\n",
    "    n = len(nums)\n",
    "    total_sum = (n + 1) * (n + 2) // 2  # Sum of numbers from 1 to n+1\n",
    "    actual_sum = sum(nums)\n",
    "    return total_sum - actual_sum\n",
    "\n",
    "# Example usage\n",
    "nums =[3, 0, 1]\n",
    "print(find_missing_number(nums))  # Output: 4\n"
   ]
  },
  {
   "cell_type": "code",
   "execution_count": null,
   "metadata": {},
   "outputs": [],
   "source": []
  }
 ],
 "metadata": {
  "kernelspec": {
   "display_name": "emotion",
   "language": "python",
   "name": "python3"
  },
  "language_info": {
   "codemirror_mode": {
    "name": "ipython",
    "version": 3
   },
   "file_extension": ".py",
   "mimetype": "text/x-python",
   "name": "python",
   "nbconvert_exporter": "python",
   "pygments_lexer": "ipython3",
   "version": "3.10.13"
  }
 },
 "nbformat": 4,
 "nbformat_minor": 2
}
